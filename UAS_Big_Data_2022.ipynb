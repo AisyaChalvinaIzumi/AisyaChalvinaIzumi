{
  "nbformat": 4,
  "nbformat_minor": 0,
  "metadata": {
    "colab": {
      "name": "UAS-Big-Data-2022.ipynb",
      "provenance": [],
      "collapsed_sections": [],
      "authorship_tag": "ABX9TyNwOAp56W12ipia7tS5+wkk",
      "include_colab_link": true
    },
    "kernelspec": {
      "name": "python3",
      "display_name": "Python 3"
    },
    "language_info": {
      "name": "python"
    }
  },
  "cells": [
    {
      "cell_type": "markdown",
      "metadata": {
        "id": "view-in-github",
        "colab_type": "text"
      },
      "source": [
        "<a href=\"https://colab.research.google.com/github/AisyaChalvinaIzumi/AisyaChalvinaIzumi/blob/main/UAS_Big_Data_2022.ipynb\" target=\"_parent\"><img src=\"https://colab.research.google.com/assets/colab-badge.svg\" alt=\"Open In Colab\"/></a>"
      ]
    },
    {
      "cell_type": "code",
      "execution_count": null,
      "metadata": {
        "id": "2l-QDNF0Eg4O"
      },
      "outputs": [],
      "source": [
        "!apt-get install openjdk-8-jdk-headless -qq > /dev/null "
      ]
    },
    {
      "cell_type": "code",
      "source": [
        "!wget -q https://dlcdn.apache.org/spark/spark-3.2.1/spark-3.2.1-bin-hadoop3.2.tgz"
      ],
      "metadata": {
        "id": "cbRwGCZqFQqS"
      },
      "execution_count": null,
      "outputs": []
    },
    {
      "cell_type": "code",
      "source": [
        "!tar xf spark-3.2.1-bin-hadoop3.2.tgz"
      ],
      "metadata": {
        "id": "Mx0Hn1MpFbGG"
      },
      "execution_count": null,
      "outputs": []
    },
    {
      "cell_type": "code",
      "source": [
        "import os\n",
        "os.environ[\"JAVA HOME\"] = \"/usr/lib/jvm/java-8-openjdk-amd64\"\n",
        "os.environ[\"SPARK_HOME\"] = \"/content/spark-3.2.1-bin-hadoop3.2\""
      ],
      "metadata": {
        "id": "NzI70zsuFiRl"
      },
      "execution_count": 4,
      "outputs": []
    },
    {
      "cell_type": "code",
      "source": [
        "!pip install -q findspark"
      ],
      "metadata": {
        "id": "C4JNsfPdGqrO"
      },
      "execution_count": 5,
      "outputs": []
    },
    {
      "cell_type": "code",
      "source": [
        "import findspark\n",
        "findspark.init()\n",
        "\n",
        "from pyspark.sql import SparkSession\n",
        "spark = SparkSession.builder\\\n",
        "        .master(\"local\")\\\n",
        "        .appName(\"Colab\")\\\n",
        "        .config('spark.ui.port', '4050')\\\n",
        "        .getOrCreate()"
      ],
      "metadata": {
        "id": "DEvImaxRGwoS"
      },
      "execution_count": 94,
      "outputs": []
    },
    {
      "cell_type": "code",
      "source": [
        "import pandas as pd\n",
        "import numpy as np\n",
        "\n",
        "import matplotlib.pyplot as plt\n",
        "import matplotlib\n",
        "import seaborn as sns\n",
        "import warnings\n",
        "warnings.simplefilter(action='ignore', category=FutureWarning)\n",
        "warnings.simplefilter(action='ignore', category=UserWarning)\n",
        "sns.set(style=\"white\")\n",
        "\n",
        "\n",
        "import plotly\n",
        "import plotly.graph_objects as go\n",
        "import plotly.express as px\n",
        "from plotly.subplots import make_subplots\n",
        "import plotly.figure_factory as ff\n",
        "\n",
        "from plotly.offline import plot, iplot, init_notebook_mode\n",
        "init_notebook_mode(connected=True)"
      ],
      "metadata": {
        "colab": {
          "base_uri": "https://localhost:8080/",
          "height": 17
        },
        "id": "JVOIk6TQG2ic",
        "outputId": "6ba4a76c-f23e-4d4e-8a33-24425d93d8e7"
      },
      "execution_count": 85,
      "outputs": [
        {
          "output_type": "display_data",
          "data": {
            "text/html": [
              "        <script type=\"text/javascript\">\n",
              "        window.PlotlyConfig = {MathJaxConfig: 'local'};\n",
              "        if (window.MathJax) {MathJax.Hub.Config({SVG: {font: \"STIX-Web\"}});}\n",
              "        if (typeof require !== 'undefined') {\n",
              "        require.undef(\"plotly\");\n",
              "        requirejs.config({\n",
              "            paths: {\n",
              "                'plotly': ['https://cdn.plot.ly/plotly-2.8.3.min']\n",
              "            }\n",
              "        });\n",
              "        require(['plotly'], function(Plotly) {\n",
              "            window._Plotly = Plotly;\n",
              "        });\n",
              "        }\n",
              "        </script>\n",
              "        "
            ]
          },
          "metadata": {}
        }
      ]
    },
    {
      "cell_type": "code",
      "source": [
        "df = spark.read.csv(\"/imdb_top_1000.csv\")"
      ],
      "metadata": {
        "id": "jFrLF9lEJsI2"
      },
      "execution_count": 37,
      "outputs": []
    },
    {
      "cell_type": "code",
      "source": [
        "df.printSchema()"
      ],
      "metadata": {
        "colab": {
          "base_uri": "https://localhost:8080/"
        },
        "id": "Sg3oXTKMJ7EP",
        "outputId": "4b42e1ce-d41a-4ba3-db06-21652ab801d1"
      },
      "execution_count": 38,
      "outputs": [
        {
          "output_type": "stream",
          "name": "stdout",
          "text": [
            "root\n",
            " |-- _c0: string (nullable = true)\n",
            " |-- _c1: string (nullable = true)\n",
            " |-- _c2: string (nullable = true)\n",
            " |-- _c3: string (nullable = true)\n",
            " |-- _c4: string (nullable = true)\n",
            " |-- _c5: string (nullable = true)\n",
            " |-- _c6: string (nullable = true)\n",
            " |-- _c7: string (nullable = true)\n",
            " |-- _c8: string (nullable = true)\n",
            " |-- _c9: string (nullable = true)\n",
            " |-- _c10: string (nullable = true)\n",
            " |-- _c11: string (nullable = true)\n",
            " |-- _c12: string (nullable = true)\n",
            " |-- _c13: string (nullable = true)\n",
            " |-- _c14: string (nullable = true)\n",
            " |-- _c15: string (nullable = true)\n",
            "\n"
          ]
        }
      ]
    },
    {
      "cell_type": "code",
      "source": [
        "df.show(15,False)"
      ],
      "metadata": {
        "colab": {
          "base_uri": "https://localhost:8080/"
        },
        "id": "XXaOi-2FKAfO",
        "outputId": "ac94d695-5db9-4301-849c-8831b59286ef"
      },
      "execution_count": 45,
      "outputs": [
        {
          "output_type": "stream",
          "name": "stdout",
          "text": [
            "+-------------------------------------------------------------------------------------------------------------------------------------------------+-------------------------------------------------+-------------+-----------+-------+-------------------------+-----------+-------------------------------------------------------------------------------------------------------------------------------------------------------------------------------------------------------------------------------------------+----------+--------------------+-----------------+--------------------+-----------------+----------------+-----------+-----------+\n",
            "|_c0                                                                                                                                              |_c1                                              |_c2          |_c3        |_c4    |_c5                      |_c6        |_c7                                                                                                                                                                                                                                        |_c8       |_c9                 |_c10             |_c11                |_c12             |_c13            |_c14       |_c15       |\n",
            "+-------------------------------------------------------------------------------------------------------------------------------------------------+-------------------------------------------------+-------------+-----------+-------+-------------------------+-----------+-------------------------------------------------------------------------------------------------------------------------------------------------------------------------------------------------------------------------------------------+----------+--------------------+-----------------+--------------------+-----------------+----------------+-----------+-----------+\n",
            "|Poster_Link                                                                                                                                      |Series_Title                                     |Released_Year|Certificate|Runtime|Genre                    |IMDB_Rating|Overview                                                                                                                                                                                                                                   |Meta_score|Director            |Star1            |Star2               |Star3            |Star4           |No_of_Votes|Gross      |\n",
            "|https://m.media-amazon.com/images/M/MV5BMDFkYTc0MGEtZmNhMC00ZDIzLWFmNTEtODM1ZmRlYWMwMWFmXkEyXkFqcGdeQXVyMTMxODk2OTU@._V1_UX67_CR0,0,67,98_AL_.jpg|The Shawshank Redemption                         |1994         |A          |142 min|Drama                    |9.3        |Two imprisoned men bond over a number of years, finding solace and eventual redemption through acts of common decency.                                                                                                                     |80        |Frank Darabont      |Tim Robbins      |Morgan Freeman      |Bob Gunton       |William Sadler  |2343110    |28,341,469 |\n",
            "|https://m.media-amazon.com/images/M/MV5BM2MyNjYxNmUtYTAwNi00MTYxLWJmNWYtYzZlODY3ZTk3OTFlXkEyXkFqcGdeQXVyNzkwMjQ5NzM@._V1_UY98_CR1,0,67,98_AL_.jpg|The Godfather                                    |1972         |A          |175 min|Crime, Drama             |9.2        |An organized crime dynasty's aging patriarch transfers control of his clandestine empire to his reluctant son.                                                                                                                             |100       |Francis Ford Coppola|Marlon Brando    |Al Pacino           |James Caan       |Diane Keaton    |1620367    |134,966,411|\n",
            "|https://m.media-amazon.com/images/M/MV5BMTMxNTMwODM0NF5BMl5BanBnXkFtZTcwODAyMTk2Mw@@._V1_UX67_CR0,0,67,98_AL_.jpg                                |The Dark Knight                                  |2008         |UA         |152 min|Action, Crime, Drama     |9          |When the menace known as the Joker wreaks havoc and chaos on the people of Gotham, Batman must accept one of the greatest psychological and physical tests of his ability to fight injustice.                                              |84        |Christopher Nolan   |Christian Bale   |Heath Ledger        |Aaron Eckhart    |Michael Caine   |2303232    |534,858,444|\n",
            "|https://m.media-amazon.com/images/M/MV5BMWMwMGQzZTItY2JlNC00OWZiLWIyMDctNDk2ZDQ2YjRjMWQ0XkEyXkFqcGdeQXVyNzkwMjQ5NzM@._V1_UY98_CR1,0,67,98_AL_.jpg|The Godfather: Part II                           |1974         |A          |202 min|Crime, Drama             |9          |The early life and career of Vito Corleone in 1920s New York City is portrayed, while his son, Michael, expands and tightens his grip on the family crime syndicate.                                                                       |90        |Francis Ford Coppola|Al Pacino        |Robert De Niro      |Robert Duvall    |Diane Keaton    |1129952    |57,300,000 |\n",
            "|https://m.media-amazon.com/images/M/MV5BMWU4N2FjNzYtNTVkNC00NzQ0LTg0MjAtYTJlMjFhNGUxZDFmXkEyXkFqcGdeQXVyNjc1NTYyMjg@._V1_UX67_CR0,0,67,98_AL_.jpg|12 Angry Men                                     |1957         |U          |96 min |Crime, Drama             |9          |A jury holdout attempts to prevent a miscarriage of justice by forcing his colleagues to reconsider the evidence.                                                                                                                          |96        |Sidney Lumet        |Henry Fonda      |Lee J. Cobb         |Martin Balsam    |John Fiedler    |689845     |4,360,000  |\n",
            "|https://m.media-amazon.com/images/M/MV5BNzA5ZDNlZWMtM2NhNS00NDJjLTk4NDItYTRmY2EwMWZlMTY3XkEyXkFqcGdeQXVyNzkwMjQ5NzM@._V1_UX67_CR0,0,67,98_AL_.jpg|The Lord of the Rings: The Return of the King    |2003         |U          |201 min|Action, Adventure, Drama |8.9        |Gandalf and Aragorn lead the World of Men against Sauron's army to draw his gaze from Frodo and Sam as they approach Mount Doom with the One Ring.                                                                                         |94        |Peter Jackson       |Elijah Wood      |Viggo Mortensen     |Ian McKellen     |Orlando Bloom   |1642758    |377,845,905|\n",
            "|https://m.media-amazon.com/images/M/MV5BNGNhMDIzZTUtNTBlZi00MTRlLWFjM2ItYzViMjE3YzI5MjljXkEyXkFqcGdeQXVyNzkwMjQ5NzM@._V1_UY98_CR0,0,67,98_AL_.jpg|Pulp Fiction                                     |1994         |A          |154 min|Crime, Drama             |8.9        |The lives of two mob hitmen, a boxer, a gangster and his wife, and a pair of diner bandits intertwine in four tales of violence and redemption.                                                                                            |94        |Quentin Tarantino   |John Travolta    |Uma Thurman         |Samuel L. Jackson|Bruce Willis    |1826188    |107,928,762|\n",
            "|https://m.media-amazon.com/images/M/MV5BNDE4OTMxMTctNmRhYy00NWE2LTg3YzItYTk3M2UwOTU5Njg4XkEyXkFqcGdeQXVyNjU0OTQ0OTY@._V1_UX67_CR0,0,67,98_AL_.jpg|Schindler's List                                 |1993         |A          |195 min|Biography, Drama, History|8.9        |In German-occupied Poland during World War II, industrialist Oskar Schindler gradually becomes concerned for his Jewish workforce after witnessing their persecution by the Nazis.                                                         |94        |Steven Spielberg    |Liam Neeson      |Ralph Fiennes       |Ben Kingsley     |Caroline Goodall|1213505    |96,898,818 |\n",
            "|https://m.media-amazon.com/images/M/MV5BMjAxMzY3NjcxNF5BMl5BanBnXkFtZTcwNTI5OTM0Mw@@._V1_UX67_CR0,0,67,98_AL_.jpg                                |Inception                                        |2010         |UA         |148 min|Action, Adventure, Sci-Fi|8.8        |A thief who steals corporate secrets through the use of dream-sharing technology is given the inverse task of planting an idea into the mind of a C.E.O.                                                                                   |74        |Christopher Nolan   |Leonardo DiCaprio|Joseph Gordon-Levitt|Elliot Page      |Ken Watanabe    |2067042    |292,576,195|\n",
            "|https://m.media-amazon.com/images/M/MV5BMmEzNTkxYjQtZTc0MC00YTVjLTg5ZTEtZWMwOWVlYzY0NWIwXkEyXkFqcGdeQXVyNzkwMjQ5NzM@._V1_UX67_CR0,0,67,98_AL_.jpg|Fight Club                                       |1999         |A          |139 min|Drama                    |8.8        |An insomniac office worker and a devil-may-care soapmaker form an underground fight club that evolves into something much, much more.                                                                                                      |66        |David Fincher       |Brad Pitt        |Edward Norton       |Meat Loaf        |Zach Grenier    |1854740    |37,030,102 |\n",
            "|https://m.media-amazon.com/images/M/MV5BN2EyZjM3NzUtNWUzMi00MTgxLWI0NTctMzY4M2VlOTdjZWRiXkEyXkFqcGdeQXVyNDUzOTQ5MjY@._V1_UX67_CR0,0,67,98_AL_.jpg|The Lord of the Rings: The Fellowship of the Ring|2001         |U          |178 min|Action, Adventure, Drama |8.8        |A meek Hobbit from the Shire and eight companions set out on a journey to destroy the powerful One Ring and save Middle-earth from the Dark Lord Sauron.                                                                                   |92        |Peter Jackson       |Elijah Wood      |Ian McKellen        |Orlando Bloom    |Sean Bean       |1661481    |315,544,750|\n",
            "|https://m.media-amazon.com/images/M/MV5BNWIwODRlZTUtY2U3ZS00Yzg1LWJhNzYtMmZiYmEyNmU1NjMzXkEyXkFqcGdeQXVyMTQxNzMzNDI@._V1_UY98_CR0,0,67,98_AL_.jpg|Forrest Gump                                     |1994         |UA         |142 min|Drama, Romance           |8.8        |The presidencies of Kennedy and Johnson, the events of Vietnam, Watergate and other historical events unfold through the perspective of an Alabama man with an IQ of 75, whose only desire is to be reunited with his childhood sweetheart.|82        |Robert Zemeckis     |Tom Hanks        |Robin Wright        |Gary Sinise      |Sally Field     |1809221    |330,252,182|\n",
            "|https://m.media-amazon.com/images/M/MV5BOTQ5NDI3MTI4MF5BMl5BanBnXkFtZTgwNDQ4ODE5MDE@._V1_UX67_CR0,0,67,98_AL_.jpg                                |Il buono, il brutto, il cattivo                  |1966         |A          |161 min|Western                  |8.8        |A bounty hunting scam joins two men in an uneasy alliance against a third in a race to find a fortune in gold buried in a remote cemetery.                                                                                                 |90        |Sergio Leone        |Clint Eastwood   |Eli Wallach         |Lee Van Cleef    |Aldo Giuffrè    |688390     |6,100,000  |\n",
            "|https://m.media-amazon.com/images/M/MV5BZGMxZTdjZmYtMmE2Ni00ZTdkLWI5NTgtNjlmMjBiNzU2MmI5XkEyXkFqcGdeQXVyNjU0OTQ0OTY@._V1_UX67_CR0,0,67,98_AL_.jpg|The Lord of the Rings: The Two Towers            |2002         |UA         |179 min|Action, Adventure, Drama |8.7        |While Frodo and Sam edge closer to Mordor with the help of the shifty Gollum, the divided fellowship makes a stand against Sauron's new ally, Saruman, and his hordes of Isengard.                                                         |87        |Peter Jackson       |Elijah Wood      |Ian McKellen        |Viggo Mortensen  |Orlando Bloom   |1485555    |342,551,365|\n",
            "+-------------------------------------------------------------------------------------------------------------------------------------------------+-------------------------------------------------+-------------+-----------+-------+-------------------------+-----------+-------------------------------------------------------------------------------------------------------------------------------------------------------------------------------------------------------------------------------------------+----------+--------------------+-----------------+--------------------+-----------------+----------------+-----------+-----------+\n",
            "only showing top 15 rows\n",
            "\n"
          ]
        }
      ]
    },
    {
      "cell_type": "code",
      "source": [
        "df.count()"
      ],
      "metadata": {
        "colab": {
          "base_uri": "https://localhost:8080/"
        },
        "id": "4UfiStjyKE3B",
        "outputId": "a32e6562-7bd1-41de-8f2a-af38fe47a33c"
      },
      "execution_count": 40,
      "outputs": [
        {
          "output_type": "execute_result",
          "data": {
            "text/plain": [
              "1001"
            ]
          },
          "metadata": {},
          "execution_count": 40
        }
      ]
    },
    {
      "cell_type": "code",
      "source": [
        "df.select(\"_c1\", \"_c2\", \"_c5\", \"_c6\", \"_c15\").show(15)"
      ],
      "metadata": {
        "colab": {
          "base_uri": "https://localhost:8080/"
        },
        "id": "Y82M7m_pKvXK",
        "outputId": "a756c155-7162-4e01-c3ef-8a2ef0982957"
      },
      "execution_count": 49,
      "outputs": [
        {
          "output_type": "stream",
          "name": "stdout",
          "text": [
            "+--------------------+-------------+--------------------+-----------+-----------+\n",
            "|                 _c1|          _c2|                 _c5|        _c6|       _c15|\n",
            "+--------------------+-------------+--------------------+-----------+-----------+\n",
            "|        Series_Title|Released_Year|               Genre|IMDB_Rating|      Gross|\n",
            "|The Shawshank Red...|         1994|               Drama|        9.3| 28,341,469|\n",
            "|       The Godfather|         1972|        Crime, Drama|        9.2|134,966,411|\n",
            "|     The Dark Knight|         2008|Action, Crime, Drama|          9|534,858,444|\n",
            "|The Godfather: Pa...|         1974|        Crime, Drama|          9| 57,300,000|\n",
            "|        12 Angry Men|         1957|        Crime, Drama|          9|  4,360,000|\n",
            "|The Lord of the R...|         2003|Action, Adventure...|        8.9|377,845,905|\n",
            "|        Pulp Fiction|         1994|        Crime, Drama|        8.9|107,928,762|\n",
            "|    Schindler's List|         1993|Biography, Drama,...|        8.9| 96,898,818|\n",
            "|           Inception|         2010|Action, Adventure...|        8.8|292,576,195|\n",
            "|          Fight Club|         1999|               Drama|        8.8| 37,030,102|\n",
            "|The Lord of the R...|         2001|Action, Adventure...|        8.8|315,544,750|\n",
            "|        Forrest Gump|         1994|      Drama, Romance|        8.8|330,252,182|\n",
            "|Il buono, il brut...|         1966|             Western|        8.8|  6,100,000|\n",
            "|The Lord of the R...|         2002|Action, Adventure...|        8.7|342,551,365|\n",
            "+--------------------+-------------+--------------------+-----------+-----------+\n",
            "only showing top 15 rows\n",
            "\n"
          ]
        }
      ]
    },
    {
      "cell_type": "code",
      "source": [
        "df_filtered = df.filter(\"_c2 > 1980 AND _c6 > 7 AND _c1 IS NOT NULL\")\n",
        "df_filtered.select(\"_c1\", \"_c5\", \"_c6\", \"_c2\").show(100, False)"
      ],
      "metadata": {
        "colab": {
          "base_uri": "https://localhost:8080/"
        },
        "id": "piQUvuz6OHzv",
        "outputId": "96b6aafd-05a6-4b15-bb3b-8e21af03862e"
      },
      "execution_count": 78,
      "outputs": [
        {
          "output_type": "stream",
          "name": "stdout",
          "text": [
            "+-------------------------------------------------+----------------------------+---+----+\n",
            "|_c1                                              |_c5                         |_c6|_c2 |\n",
            "+-------------------------------------------------+----------------------------+---+----+\n",
            "|The Shawshank Redemption                         |Drama                       |9.3|1994|\n",
            "|The Dark Knight                                  |Action, Crime, Drama        |9  |2008|\n",
            "|The Lord of the Rings: The Return of the King    |Action, Adventure, Drama    |8.9|2003|\n",
            "|Pulp Fiction                                     |Crime, Drama                |8.9|1994|\n",
            "|Schindler's List                                 |Biography, Drama, History   |8.9|1993|\n",
            "|Inception                                        |Action, Adventure, Sci-Fi   |8.8|2010|\n",
            "|Fight Club                                       |Drama                       |8.8|1999|\n",
            "|The Lord of the Rings: The Fellowship of the Ring|Action, Adventure, Drama    |8.8|2001|\n",
            "|Forrest Gump                                     |Drama, Romance              |8.8|1994|\n",
            "|The Lord of the Rings: The Two Towers            |Action, Adventure, Drama    |8.7|2002|\n",
            "|The Matrix                                       |Action, Sci-Fi              |8.7|1999|\n",
            "|Goodfellas                                       |Biography, Crime, Drama     |8.7|1990|\n",
            "|Hamilton                                         |Biography, Drama, History   |8.6|2020|\n",
            "|Gisaengchung                                     |Comedy, Drama, Thriller     |8.6|2019|\n",
            "|Soorarai Pottru                                  |Drama                       |8.6|2020|\n",
            "|Interstellar                                     |Adventure, Drama, Sci-Fi    |8.6|2014|\n",
            "|Cidade de Deus                                   |Crime, Drama                |8.6|2002|\n",
            "|Sen to Chihiro no kamikakushi                    |Animation, Adventure, Family|8.6|2001|\n",
            "|Saving Private Ryan                              |Drama, War                  |8.6|1998|\n",
            "|The Green Mile                                   |Crime, Drama, Fantasy       |8.6|1999|\n",
            "|La vita è bella                                  |Comedy, Drama, Romance      |8.6|1997|\n",
            "|Se7en                                            |Crime, Drama, Mystery       |8.6|1995|\n",
            "|The Silence of the Lambs                         |Crime, Drama, Thriller      |8.6|1991|\n",
            "|Joker                                            |Crime, Drama, Thriller      |8.5|2019|\n",
            "|Whiplash                                         |Drama, Music                |8.5|2014|\n",
            "|The Intouchables                                 |Biography, Comedy, Drama    |8.5|2011|\n",
            "|The Prestige                                     |Drama, Mystery, Sci-Fi      |8.5|2006|\n",
            "|The Departed                                     |Crime, Drama, Thriller      |8.5|2006|\n",
            "|The Pianist                                      |Biography, Drama, Music     |8.5|2002|\n",
            "|Gladiator                                        |Action, Adventure, Drama    |8.5|2000|\n",
            "|American History X                               |Drama                       |8.5|1998|\n",
            "|The Usual Suspects                               |Crime, Mystery, Thriller    |8.5|1995|\n",
            "|Léon                                             |Action, Crime, Drama        |8.5|1994|\n",
            "|The Lion King                                    |Animation, Adventure, Drama |8.5|1994|\n",
            "|Terminator 2: Judgment Day                       |Action, Sci-Fi              |8.5|1991|\n",
            "|Nuovo Cinema Paradiso                            |Drama, Romance              |8.5|1988|\n",
            "|Hotaru no haka                                   |Animation, Drama, War       |8.5|1988|\n",
            "|Back to the Future                               |Adventure, Comedy, Sci-Fi   |8.5|1985|\n",
            "|Capharnaüm                                       |Drama                       |8.4|2018|\n",
            "|Ayla: The Daughter of War                        |Biography, Drama, History   |8.4|2017|\n",
            "|Vikram Vedha                                     |Action, Crime, Drama        |8.4|2017|\n",
            "|Kimi no na wa.                                   |Animation, Drama, Fantasy   |8.4|2016|\n",
            "|Dangal                                           |Action, Biography, Drama    |8.4|2016|\n",
            "|Spider-Man: Into the Spider-Verse                |Animation, Action, Adventure|8.4|2018|\n",
            "|Avengers: Endgame                                |Action, Adventure, Drama    |8.4|2019|\n",
            "|Avengers: Infinity War                           |Action, Adventure, Sci-Fi   |8.4|2018|\n",
            "|Coco                                             |Animation, Adventure, Family|8.4|2017|\n",
            "|Django Unchained                                 |Drama, Western              |8.4|2012|\n",
            "|The Dark Knight Rises                            |Action, Adventure           |8.4|2012|\n",
            "|3 Idiots                                         |Comedy, Drama               |8.4|2009|\n",
            "|Taare Zameen Par                                 |Drama, Family               |8.4|2007|\n",
            "|WALL·E                                           |Animation, Adventure, Family|8.4|2008|\n",
            "|The Lives of Others                              |Drama, Mystery, Thriller    |8.4|2006|\n",
            "|Oldeuboi                                         |Action, Drama, Mystery      |8.4|2003|\n",
            "|Memento                                          |Mystery, Thriller           |8.4|2000|\n",
            "|Mononoke-hime                                    |Animation, Action, Adventure|8.4|1997|\n",
            "|Once Upon a Time in America                      |Crime, Drama                |8.4|1984|\n",
            "|Raiders of the Lost Ark                          |Action, Adventure           |8.4|1981|\n",
            "|1917                                             |Drama, Thriller, War        |8.3|2019|\n",
            "|Tumbbad                                          |Drama, Fantasy, Horror      |8.3|2018|\n",
            "|Andhadhun                                        |Crime, Drama, Music         |8.3|2018|\n",
            "|Drishyam                                         |Crime, Drama, Thriller      |8.3|2013|\n",
            "|Jagten                                           |Drama                       |8.3|2012|\n",
            "|Jodaeiye Nader az Simin                          |Drama                       |8.3|2011|\n",
            "|Incendies                                        |Drama, Mystery, War         |8.3|2010|\n",
            "|Miracle in cell NO.7                             |Drama                       |8.3|2019|\n",
            "|Babam ve Oglum                                   |Drama, Family               |8.3|2005|\n",
            "|Inglourious Basterds                             |Adventure, Drama, War       |8.3|2009|\n",
            "|Eternal Sunshine of the Spotless Mind            |Drama, Romance, Sci-Fi      |8.3|2004|\n",
            "|Amélie                                           |Comedy, Romance             |8.3|2001|\n",
            "|Snatch                                           |Comedy, Crime               |8.3|2000|\n",
            "|Requiem for a Dream                              |Drama                       |8.3|2000|\n",
            "|American Beauty                                  |Drama                       |8.3|1999|\n",
            "|Good Will Hunting                                |Drama, Romance              |8.3|1997|\n",
            "|Bacheha-Ye aseman                                |Drama, Family, Sport        |8.3|1997|\n",
            "|Toy Story                                        |Animation, Adventure, Comedy|8.3|1995|\n",
            "|Braveheart                                       |Biography, Drama, History   |8.3|1995|\n",
            "|Reservoir Dogs                                   |Crime, Drama, Thriller      |8.3|1992|\n",
            "|Full Metal Jacket                                |Drama, War                  |8.3|1987|\n",
            "|Idi i smotri                                     |Drama, Thriller, War        |8.3|1985|\n",
            "|Aliens                                           |Action, Adventure, Sci-Fi   |8.3|1986|\n",
            "|Amadeus                                          |Biography, Drama, History   |8.3|1984|\n",
            "|Scarface                                         |Crime, Drama                |8.3|1983|\n",
            "|Star Wars: Episode VI - Return of the Jedi       |Action, Adventure, Fantasy  |8.3|1983|\n",
            "|Das Boot                                         |Adventure, Drama, Thriller  |8.3|1981|\n",
            "|Chhichhore                                       |Comedy, Drama               |8.2|2019|\n",
            "|Uri: The Surgical Strike                         |Action, Drama, War          |8.2|2018|\n",
            "|K.G.F: Chapter 1                                 |Action, Drama               |8.2|2018|\n",
            "|Green Book                                       |Biography, Comedy, Drama    |8.2|2018|\n",
            "|Three Billboards Outside Ebbing, Missouri        |Comedy, Crime, Drama        |8.2|2017|\n",
            "|Talvar                                           |Crime, Drama, Mystery       |8.2|2015|\n",
            "|Baahubali 2: The Conclusion                      |Action, Drama               |8.2|2017|\n",
            "|Klaus                                            |Animation, Adventure, Comedy|8.2|2019|\n",
            "|Drishyam                                         |Crime, Drama, Mystery       |8.2|2015|\n",
            "|Queen                                            |Adventure, Comedy, Drama    |8.2|2013|\n",
            "|Mandariinid                                      |Drama, War                  |8.2|2013|\n",
            "|Bhaag Milkha Bhaag                               |Biography, Drama, Sport     |8.2|2013|\n",
            "|Gangs of Wasseypur                               |Action, Comedy, Crime       |8.2|2012|\n",
            "|Udaan                                            |Drama                       |8.2|2010|\n",
            "|Paan Singh Tomar                                 |Action, Biography, Crime    |8.2|2012|\n",
            "+-------------------------------------------------+----------------------------+---+----+\n",
            "only showing top 100 rows\n",
            "\n"
          ]
        }
      ]
    },
    {
      "cell_type": "code",
      "source": [
        "from pyspark.sql import functions as f\n",
        "maxValue = df_filtered.agg(f.max(\"_c6\")).collect()[0][0]\n",
        "print(\"maxValue: \",maxValue)\n",
        "df_filtered.select(\"_c1\",\"_c5\", \"_c6\", \"_c2\").filter(df._c6 == maxValue).show(100, False)"
      ],
      "metadata": {
        "colab": {
          "base_uri": "https://localhost:8080/"
        },
        "id": "DeAA-03wSkLV",
        "outputId": "522c5e00-5d77-4194-8416-f3b44cd4a752"
      },
      "execution_count": 79,
      "outputs": [
        {
          "output_type": "stream",
          "name": "stdout",
          "text": [
            "maxValue:  9.3\n",
            "+------------------------+-----+---+----+\n",
            "|_c1                     |_c5  |_c6|_c2 |\n",
            "+------------------------+-----+---+----+\n",
            "|The Shawshank Redemption|Drama|9.3|1994|\n",
            "+------------------------+-----+---+----+\n",
            "\n"
          ]
        }
      ]
    },
    {
      "cell_type": "code",
      "source": [
        "df.filter(\"_c6=\"+str(df.agg(f.min(\"_c6\")).collect()[0][0])).show()"
      ],
      "metadata": {
        "colab": {
          "base_uri": "https://localhost:8080/"
        },
        "id": "byfIi7MqUPsp",
        "outputId": "e2006592-b445-423b-e7a0-e1072f27b7de"
      },
      "execution_count": 65,
      "outputs": [
        {
          "output_type": "stream",
          "name": "stdout",
          "text": [
            "+--------------------+--------------------+----+-----+-------+--------------------+---+--------------------+---+--------------------+-------------------+-------------------+----------------+--------------------+------+-----------+\n",
            "|                 _c0|                 _c1| _c2|  _c3|    _c4|                 _c5|_c6|                 _c7|_c8|                 _c9|               _c10|               _c11|            _c12|                _c13|  _c14|       _c15|\n",
            "+--------------------+--------------------+----+-----+-------+--------------------+---+--------------------+---+--------------------+-------------------+-------------------+----------------+--------------------+------+-----------+\n",
            "|https://m.media-a...|         Dark Waters|2019|PG-13|126 min|Biography, Drama,...|7.6|A corporate defen...| 73|         Todd Haynes|       Mark Ruffalo|      Anne Hathaway|     Tim Robbins|        Bill Pullman| 60408|       null|\n",
            "|https://m.media-a...|           Searching|2018|  U/A|102 min|Drama, Mystery, T...|7.6|After his teenage...| 71|     Aneesh Chaganty|           John Cho|      Debra Messing|      Joseph Lee|         Michelle La|140840| 26,020,957|\n",
            "|https://m.media-a...|Once Upon a Time....|2019|    A|161 min|       Comedy, Drama|7.6|A faded televisio...| 83|   Quentin Tarantino|  Leonardo DiCaprio|          Brad Pitt|   Margot Robbie|        Emile Hirsch|551309|142,502,728|\n",
            "|https://m.media-a...|            Nelyubov|2017|    R|127 min|               Drama|7.6|A couple going th...| 86|  Andrey Zvyagintsev|     Maryana Spivak|      Aleksey Rozin|  Matvey Novikov|     Marina Vasileva| 29765|    566,356|\n",
            "|https://m.media-a...| The Florida Project|2017|    A|111 min|               Drama|7.6|Set over one summ...| 92|          Sean Baker|   Brooklynn Prince|       Bria Vinaite|    Willem Dafoe|  Christopher Rivera| 95181|  5,904,366|\n",
            "|https://m.media-a...|          Just Mercy|2019|    A|137 min|Biography, Crime,...|7.6|World-renowned ci...| 68|Destin Daniel Cre...|  Michael B. Jordan|         Jamie Foxx|     Brie Larson|     Charlie Pye Jr.| 46739|       null|\n",
            "|https://m.media-a...|              Gifted|2017|PG-13|101 min|               Drama|7.6|Frank, a single m...| 60|           Marc Webb|        Chris Evans|      Mckenna Grace|  Lindsay Duncan|     Octavia Spencer| 99643| 24,801,212|\n",
            "|https://m.media-a...|The Peanut Butter...|2019|PG-13| 97 min|Adventure, Comedy...|7.6|Zak runs away fro...| 70|        Tyler Nilson|   Michael Schwartz|     Zack Gottsagen|       Ann Owens|      Dakota Johnson| 66346| 13,122,642|\n",
            "|https://m.media-a...|            Victoria|2015| null|138 min|Crime, Drama, Rom...|7.6|A young Spanish w...| 77|  Sebastian Schipper|         Laia Costa|      Frederick Lau|  Franz Rogowski|         Burak Yigit| 52903|       null|\n",
            "|https://m.media-a...|             Mustang|2015|PG-13| 97 min|               Drama|7.6|When five orphan ...| 83| Deniz Gamze Ergüven|       Günes Sensoy|Doga Zeynep Doguslu|Tugba Sunguroglu|          Elit Iscan| 35785|    845,464|\n",
            "|https://m.media-a...|Guardians of the ...|2017|   UA|136 min|Action, Adventure...|7.6|The Guardians str...| 67|          James Gunn|        Chris Pratt|        Zoe Saldana|   Dave Bautista|          Vin Diesel|569974|389,813,101|\n",
            "|https://m.media-a...|         Baby Driver|2017|   UA|113 min|Action, Crime, Drama|7.6|After being coerc...| 86|        Edgar Wright|       Ansel Elgort|       Jon Bernthal|        Jon Hamm|       Eiza González|439406|107,825,862|\n",
            "|https://m.media-a...|      Only the Brave|2017|   UA|134 min|Action, Biography...|7.6|Based on the true...| 72|     Joseph Kosinski|        Josh Brolin|       Miles Teller|    Jeff Bridges|   Jennifer Connelly| 58371| 18,340,051|\n",
            "|https://m.media-a...|     Bridge of Spies|2015|   UA|142 min|Drama, History, T...|7.6|During the Cold W...| 81|    Steven Spielberg|          Tom Hanks|       Mark Rylance|       Alan Alda|            Amy Ryan|287659| 72,313,754|\n",
            "|https://m.media-a...|       Incredibles 2|2018|   UA|118 min|Animation, Action...|7.6|The Incredibles f...| 80|           Brad Bird|    Craig T. Nelson|       Holly Hunter|    Sarah Vowell|         Huck Milner|250057|608,581,744|\n",
            "|https://m.media-a...|               Moana|2016|    U|107 min|Animation, Advent...|7.6|In Ancient Polyne...| 81|        Ron Clements|        John Musker|           Don Hall|  Chris Williams|     Auli'i Cravalho|272784|248,757,044|\n",
            "|https://m.media-a...|             Sicario|2015|    A|121 min|Action, Crime, Drama|7.6|An idealistic FBI...| 82|    Denis Villeneuve|        Emily Blunt|        Josh Brolin|Benicio Del Toro|        Jon Bernthal|371291| 46,889,293|\n",
            "|https://m.media-a...|               Creed|2015|    A|133 min|        Drama, Sport|7.6|The former World ...| 82|        Ryan Coogler|  Michael B. Jordan| Sylvester Stallone|  Tessa Thompson|     Phylicia Rashad|247666|109,767,581|\n",
            "|https://m.media-a...|            Leviafan|2014|    R|140 min|        Crime, Drama|7.6|In a Russian coas...| 92|  Andrey Zvyagintsev|Aleksey Serebryakov|      Elena Lyadova|  Roman Madyanov|Vladimir Vdoviche...| 49397|  1,092,800|\n",
            "|https://m.media-a...|  Hell or High Water|2016|    R|102 min|Action, Crime, Drama|7.6|A divorced father...| 88|     David Mackenzie|         Chris Pine|         Ben Foster|    Jeff Bridges|      Gil Birmingham|204175| 26,862,450|\n",
            "+--------------------+--------------------+----+-----+-------+--------------------+---+--------------------+---+--------------------+-------------------+-------------------+----------------+--------------------+------+-----------+\n",
            "only showing top 20 rows\n",
            "\n"
          ]
        }
      ]
    },
    {
      "cell_type": "code",
      "source": [
        "df.groupBy('_c2').count().sort(df._c2).show()"
      ],
      "metadata": {
        "colab": {
          "base_uri": "https://localhost:8080/"
        },
        "id": "Wx3UAGP7VrYs",
        "outputId": "d1af1242-8fb6-4140-e7f6-07ede2dc7761"
      },
      "execution_count": 66,
      "outputs": [
        {
          "output_type": "stream",
          "name": "stdout",
          "text": [
            "+----+-----+\n",
            "| _c2|count|\n",
            "+----+-----+\n",
            "|1920|    1|\n",
            "|1921|    1|\n",
            "|1922|    1|\n",
            "|1924|    1|\n",
            "|1925|    2|\n",
            "|1926|    1|\n",
            "|1927|    2|\n",
            "|1928|    2|\n",
            "|1930|    1|\n",
            "|1931|    3|\n",
            "|1932|    2|\n",
            "|1933|    3|\n",
            "|1934|    2|\n",
            "|1935|    3|\n",
            "|1936|    1|\n",
            "|1937|    1|\n",
            "|1938|    3|\n",
            "|1939|    5|\n",
            "|1940|    7|\n",
            "|1941|    2|\n",
            "+----+-----+\n",
            "only showing top 20 rows\n",
            "\n"
          ]
        }
      ]
    }
  ]
}